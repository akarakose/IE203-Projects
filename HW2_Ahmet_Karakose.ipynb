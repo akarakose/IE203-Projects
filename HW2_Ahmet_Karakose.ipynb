{
 "cells": [
  {
   "cell_type": "markdown",
   "id": "615b8fdc-ea42-4717-99c2-f258ff92ada1",
   "metadata": {},
   "source": [
    "# Initialization"
   ]
  },
  {
   "cell_type": "code",
   "execution_count": 1,
   "id": "5bf2b0e2-22f2-47dc-82f6-5598bff7efae",
   "metadata": {},
   "outputs": [],
   "source": [
    "# Import necessary packages\n",
    "import numpy as np\n",
    "import pandas as pd\n",
    "import time"
   ]
  },
  {
   "cell_type": "code",
   "execution_count": 2,
   "id": "77d8af65-2038-45ca-bb15-efcc306319db",
   "metadata": {},
   "outputs": [],
   "source": [
    "# Import probability matrices\n",
    "\n",
    "P_10 = np.loadtxt('HW2_2022402309_10.txt')\n",
    "P_100 = np.loadtxt('HW2_2022402309_100.txt')\n",
    "P_1000 = np.loadtxt('HW2_2022402309_1000.txt')\n"
   ]
  },
  {
   "cell_type": "markdown",
   "id": "b5482cf4-9d5a-48e3-a2ab-9817872b3dfe",
   "metadata": {},
   "source": [
    "# Task 1"
   ]
  },
  {
   "cell_type": "markdown",
   "id": "3d9f5d8e-c23c-418a-bf86-9b2ca92995e9",
   "metadata": {},
   "source": [
    "## Method 1"
   ]
  },
  {
   "cell_type": "code",
   "execution_count": 3,
   "id": "69ea66c5-2fa4-4cfb-b792-50b74586852c",
   "metadata": {},
   "outputs": [],
   "source": [
    "# We will implement the formula (I - P.T)π = 0 and sum(π_j = 1)\n",
    "\n",
    "def analytical(P):\n",
    "    # Shape of the transition matrix\n",
    "    dim = P.shape[0]\n",
    "    \n",
    "    # Create the coefficient matrix A = (I - P.T)\n",
    "    A = np.eye(dim) - P.T\n",
    "    \n",
    "    # Append an equation to the linear system so the probabilities sum to 1\n",
    "    A = np.vstack((A, np.ones(dim)))\n",
    "    \n",
    "    # Create the right-hand side vector\n",
    "    b = np.zeros(dim)\n",
    "    b = np.append(b, 1)\n",
    "    \n",
    "    # Solve the linear system\n",
    "    pi = np.linalg.lstsq(A, b, rcond=None)[0]\n",
    "    \n",
    "    return pi"
   ]
  },
  {
   "cell_type": "markdown",
   "id": "513c5fdc-c2e2-404e-9a92-87742ab2ad24",
   "metadata": {},
   "source": [
    "## Method 2"
   ]
  },
  {
   "cell_type": "code",
   "execution_count": 4,
   "id": "d783e5c4-b977-40c1-8936-cb7bcc2217c3",
   "metadata": {},
   "outputs": [],
   "source": [
    "def simulation(T, P):\n",
    "    # Number of states\n",
    "    num_states = len(P)\n",
    "    \n",
    "    # Compute cumulative probabilities for each state\n",
    "    cumulative_probs = np.cumsum(P, axis=1)\n",
    "    \n",
    "    # Choose a random initial state\n",
    "    new_state = np.random.randint(0, num_states)\n",
    "    \n",
    "    # Initialize the occurrence times of the states\n",
    "    realization_count = np.zeros(num_states, dtype=int)\n",
    "    \n",
    "    for i in range(T):\n",
    "        # Generate a random number\n",
    "        RN = np.random.rand()\n",
    "        \n",
    "        # Find the next state using binary search\n",
    "        new_state = np.searchsorted(cumulative_probs[new_state], RN)\n",
    "        \n",
    "        # Increment the realization times\n",
    "        realization_count[new_state] += 1\n",
    "\n",
    "    # Normalize the realization counts\n",
    "    steady_state_prob = realization_count / T\n",
    "    \n",
    "    return steady_state_prob"
   ]
  },
  {
   "cell_type": "markdown",
   "id": "6c86dbc8-5a70-4d29-8cb6-7206a5e387a8",
   "metadata": {},
   "source": [
    "## Method 3"
   ]
  },
  {
   "cell_type": "code",
   "execution_count": 5,
   "id": "834bb133-a42e-4283-a359-36d7ffc44bf8",
   "metadata": {},
   "outputs": [],
   "source": [
    "def matrix_multiplication(P, eps):\n",
    "\n",
    "    # Initialize the matrix to be used\n",
    "    new_matrix = P\n",
    "    # Initialize the epsilon matrix to be used\n",
    "    eps_matrix = np.full_like(P, eps)\n",
    "    # Get the dimension of the input matrix\n",
    "    dim = P.shape[0]\n",
    "\n",
    "    while 1:\n",
    "        # Multiply P^2 with itself\n",
    "        new_matrix = np.dot(new_matrix, new_matrix)\n",
    "        # Evaluate pi j bar\n",
    "        col_means = np.mean(new_matrix, axis=0)\n",
    "        # Evaluate abs(P^2_t - pi j bar)\n",
    "        abs_diff = np.abs(new_matrix - col_means)  # Calculate absolute difference\n",
    "\n",
    "        # Check whether the abs_diff matrix has smaller entries than epsilon for all i, j\n",
    "        count = 0\n",
    "        for i in range(dim):\n",
    "            for j in range(dim):\n",
    "                if abs_diff[i,j] < eps_matrix[i,j]:\n",
    "                    count += 1\n",
    "\n",
    "        # If yes break out of while loop\n",
    "        if count == dim**2:\n",
    "            break\n",
    "        \n",
    "    return new_matrix[0]"
   ]
  },
  {
   "cell_type": "markdown",
   "id": "e692b99b-ed43-4d65-9e0f-2b7013cf22b9",
   "metadata": {},
   "source": [
    "# Task 2"
   ]
  },
  {
   "cell_type": "code",
   "execution_count": 6,
   "id": "e04e4b17-c1c3-4073-8dd7-ae18f6ac7633",
   "metadata": {},
   "outputs": [],
   "source": [
    "# MSE function\n",
    "\n",
    "def MSE(analytical, other):\n",
    "\n",
    "    dim = len(analytical)\n",
    "    sum = 0\n",
    "    for i in range(dim):\n",
    "        diff_sq = (analytical[i] - other[i])**2\n",
    "        sum += diff_sq\n",
    "    return sum"
   ]
  },
  {
   "cell_type": "markdown",
   "id": "c9719d39-27d8-4cc3-b6f0-cfe7999ca65a",
   "metadata": {},
   "source": [
    "## Method 1"
   ]
  },
  {
   "cell_type": "code",
   "execution_count": 7,
   "id": "8b3d515f-9a05-4348-b573-fc599e25d12f",
   "metadata": {},
   "outputs": [
    {
     "name": "stdout",
     "output_type": "stream",
     "text": [
      "Runtime for 10x10: 0.0001418590545654297 seconds\n",
      "Runtime for 100x100: 0.0028781890869140625 seconds\n",
      "Runtime for 1000x1000: 0.35988497734069824 seconds\n"
     ]
    }
   ],
   "source": [
    "# For 10 x 10\n",
    "\n",
    "start_time = time.time()\n",
    "a_10 = analytical(P_10)\n",
    "end_time = time.time()\n",
    "runtime_a_10 = end_time - start_time\n",
    "print(\"Runtime for 10x10:\", runtime_a_10, \"seconds\")\n",
    "\n",
    "# For 100 x 100\n",
    "\n",
    "start_time = time.time()\n",
    "a_100 = analytical(P_100)\n",
    "end_time = time.time()\n",
    "runtime_a_100 = end_time - start_time\n",
    "print(\"Runtime for 100x100:\", runtime_a_100, \"seconds\")\n",
    "\n",
    "# For 1000 x 1000\n",
    "\n",
    "start_time = time.time()\n",
    "a_1000 = analytical(P_1000)\n",
    "end_time = time.time()\n",
    "runtime_a_1000 = end_time - start_time\n",
    "print(\"Runtime for 1000x1000:\", runtime_a_1000, \"seconds\")"
   ]
  },
  {
   "cell_type": "markdown",
   "id": "5fc1639b-8ad3-470d-b00c-6dbf2fd115b8",
   "metadata": {},
   "source": [
    "## Method 2"
   ]
  },
  {
   "cell_type": "code",
   "execution_count": 8,
   "id": "a2e9c4a6-5aaa-4393-8a58-9dbebf5d0310",
   "metadata": {},
   "outputs": [
    {
     "name": "stdout",
     "output_type": "stream",
     "text": [
      "Runtime for 10x10: 9.013199806213379 seconds\n",
      "MSE for 10x10: 3.392188745087679e-08\n",
      "Runtime for 100x100: 9.195012092590332 seconds\n",
      "MSE for 100x100: 1.2165643854766073e-07\n",
      "Runtime for 1000x1000: 9.747640132904053 seconds\n",
      "MSE for 1000x1000: 1.0043015546933541e-07\n"
     ]
    }
   ],
   "source": [
    "# For 10 x 10\n",
    "\n",
    "start_time = time.time()\n",
    "s_10 = simulation(10**7, P_10)\n",
    "end_time = time.time()\n",
    "runtime_s_10 = end_time - start_time\n",
    "print(\"Runtime for 10x10:\", runtime_s_10, \"seconds\")\n",
    "\n",
    "MSE_s_10 = MSE(a_10, s_10)\n",
    "print(\"MSE for 10x10:\", MSE_s_10)\n",
    "\n",
    "# For 100 x 100\n",
    "\n",
    "start_time = time.time()\n",
    "s_100 = simulation(10**7, P_100)\n",
    "end_time = time.time()\n",
    "runtime_s_100 = end_time - start_time\n",
    "print(\"Runtime for 100x100:\", runtime_s_100, \"seconds\")\n",
    "\n",
    "MSE_s_100 = MSE(a_100, s_100)\n",
    "print(\"MSE for 100x100:\", MSE_s_100)\n",
    "\n",
    "\n",
    "# For 1000 x 1000\n",
    "\n",
    "start_time = time.time()\n",
    "s_1000 = simulation(10**7, P_1000)\n",
    "end_time = time.time()\n",
    "runtime_s_1000 = end_time - start_time\n",
    "print(\"Runtime for 1000x1000:\", runtime_s_1000, \"seconds\")\n",
    "\n",
    "MSE_s_1000 = MSE(a_1000, s_1000)\n",
    "print(\"MSE for 1000x1000:\", MSE_s_1000)"
   ]
  },
  {
   "cell_type": "markdown",
   "id": "16c85953-fe0c-462c-81c0-3889deaae43c",
   "metadata": {},
   "source": [
    "## Method 3"
   ]
  },
  {
   "cell_type": "code",
   "execution_count": 9,
   "id": "7a398977-9423-46fe-a0a2-7c016006b6c2",
   "metadata": {},
   "outputs": [
    {
     "name": "stdout",
     "output_type": "stream",
     "text": [
      "Runtime for 10x10: 0.0002009868621826172 seconds\n",
      "MSE for 10x10: 4.853811034335566e-19\n",
      "Runtime for 100x100: 0.030458927154541016 seconds\n",
      "MSE for 100x100: 1.1212114559314543e-16\n",
      "Runtime for 1000x1000: 0.42735910415649414 seconds\n",
      "MSE for 1000x1000: 1.2437491913160045e-12\n"
     ]
    }
   ],
   "source": [
    "# For 10 x 10\n",
    "\n",
    "start_time = time.time()\n",
    "m_10 = matrix_multiplication(P_10, 10**-6)\n",
    "end_time = time.time()\n",
    "runtime_m_10 = end_time - start_time\n",
    "print(\"Runtime for 10x10:\", runtime_m_10, \"seconds\")\n",
    "\n",
    "MSE_m_10 = MSE(a_10, m_10)\n",
    "print(\"MSE for 10x10:\", MSE_m_10)\n",
    "\n",
    "# For 100 x 100\n",
    "\n",
    "start_time = time.time()\n",
    "m_100 = matrix_multiplication(P_100, 10**-6)\n",
    "end_time = time.time()\n",
    "runtime_m_100 = end_time - start_time\n",
    "print(\"Runtime for 100x100:\", runtime_m_100, \"seconds\")\n",
    "\n",
    "MSE_m_100 = MSE(a_100, m_100)\n",
    "print(\"MSE for 100x100:\", MSE_m_100)\n",
    "\n",
    "\n",
    "# For 1000 x 1000\n",
    "\n",
    "start_time = time.time()\n",
    "m_1000 = matrix_multiplication(P_1000, 10**-6)\n",
    "end_time = time.time()\n",
    "runtime_m_1000 = end_time - start_time\n",
    "print(\"Runtime for 1000x1000:\", runtime_m_1000, \"seconds\")\n",
    "\n",
    "MSE_m_1000 = MSE(a_1000, m_1000)\n",
    "print(\"MSE for 1000x1000:\", MSE_m_1000)"
   ]
  },
  {
   "cell_type": "markdown",
   "id": "1b530a49-b4cf-467f-a174-8518ec4615c5",
   "metadata": {},
   "source": [
    "# Task 3"
   ]
  },
  {
   "cell_type": "code",
   "execution_count": 10,
   "id": "2b007bfb-03ac-4805-8eca-d7a40a399bf3",
   "metadata": {},
   "outputs": [
    {
     "data": {
      "text/html": [
       "<div>\n",
       "<style scoped>\n",
       "    .dataframe tbody tr th:only-of-type {\n",
       "        vertical-align: middle;\n",
       "    }\n",
       "\n",
       "    .dataframe tbody tr th {\n",
       "        vertical-align: top;\n",
       "    }\n",
       "\n",
       "    .dataframe thead th {\n",
       "        text-align: right;\n",
       "    }\n",
       "</style>\n",
       "<table border=\"1\" class=\"dataframe\">\n",
       "  <thead>\n",
       "    <tr style=\"text-align: right;\">\n",
       "      <th></th>\n",
       "      <th>MSE Dataset 1</th>\n",
       "      <th>Runtime Dataset 1 (s)</th>\n",
       "      <th>MSE Dataset 2</th>\n",
       "      <th>Runtime Dataset 2 (s)</th>\n",
       "      <th>MSE Dataset 3</th>\n",
       "      <th>Runtime Dataset 3 (s)</th>\n",
       "    </tr>\n",
       "  </thead>\n",
       "  <tbody>\n",
       "    <tr>\n",
       "      <th>Method 1</th>\n",
       "      <td>-</td>\n",
       "      <td>0.000142</td>\n",
       "      <td>-</td>\n",
       "      <td>0.002878</td>\n",
       "      <td>-</td>\n",
       "      <td>0.359885</td>\n",
       "    </tr>\n",
       "    <tr>\n",
       "      <th>Method 2</th>\n",
       "      <td>0.0</td>\n",
       "      <td>9.013200</td>\n",
       "      <td>0.0</td>\n",
       "      <td>9.195012</td>\n",
       "      <td>0.0</td>\n",
       "      <td>9.747640</td>\n",
       "    </tr>\n",
       "    <tr>\n",
       "      <th>Method 3</th>\n",
       "      <td>0.0</td>\n",
       "      <td>0.000201</td>\n",
       "      <td>0.0</td>\n",
       "      <td>0.030459</td>\n",
       "      <td>0.0</td>\n",
       "      <td>0.427359</td>\n",
       "    </tr>\n",
       "  </tbody>\n",
       "</table>\n",
       "</div>"
      ],
      "text/plain": [
       "         MSE Dataset 1  Runtime Dataset 1 (s) MSE Dataset 2  \\\n",
       "Method 1             -               0.000142             -   \n",
       "Method 2           0.0               9.013200           0.0   \n",
       "Method 3           0.0               0.000201           0.0   \n",
       "\n",
       "          Runtime Dataset 2 (s) MSE Dataset 3  Runtime Dataset 3 (s)  \n",
       "Method 1               0.002878             -               0.359885  \n",
       "Method 2               9.195012           0.0               9.747640  \n",
       "Method 3               0.030459           0.0               0.427359  "
      ]
     },
     "execution_count": 10,
     "metadata": {},
     "output_type": "execute_result"
    }
   ],
   "source": [
    "data = {\n",
    "    \"MSE Dataset 1\": [\"-\", MSE_s_10, MSE_m_10],\n",
    "    \"Runtime Dataset 1 (s)\": [runtime_a_10, runtime_s_10, runtime_m_10],\n",
    "    \"MSE Dataset 2\": [\"-\", MSE_s_100, MSE_m_100],\n",
    "    \"Runtime Dataset 2 (s)\": [runtime_a_100, runtime_s_100, runtime_m_100],\n",
    "    \"MSE Dataset 3\": [\"-\", MSE_s_1000, MSE_m_1000],\n",
    "    \"Runtime Dataset 3 (s)\": [runtime_a_1000, runtime_s_1000, runtime_m_1000],\n",
    "}\n",
    "\n",
    "index = [\"Method 1\", \"Method 2\", \"Method 3\"]\n",
    "\n",
    "df = pd.DataFrame(data, index=index)\n",
    "df"
   ]
  },
  {
   "cell_type": "markdown",
   "id": "fdacb3a3-6265-4e52-84b6-551c6536b2e2",
   "metadata": {},
   "source": [
    "# Task 4"
   ]
  },
  {
   "cell_type": "markdown",
   "id": "e6fbf6c6-13d7-4d10-8d8c-9b838f083a69",
   "metadata": {},
   "source": [
    "The results are consistent with expectations. Across all methods, the steady-state probabilities are very similar. Notably, Method 3 is more realiable compared to Method 2, evidenced by its lower Mean Squared Error (MSE), although Method 2 also demonstrates a very low MSE. Moreover, Method 3 achieves these results with significantly fewer iterations, leading to reduced computation time. The number of iterations varies across datasets in Method 3. Method 3, with its fewer iterations, can be considered more efficient than Method 2, which requires 10^7 iterations."
   ]
  },
  {
   "cell_type": "markdown",
   "id": "cbe76d88-8c50-4804-9e11-548311b24288",
   "metadata": {},
   "source": [
    "# Task 5"
   ]
  },
  {
   "cell_type": "code",
   "execution_count": 11,
   "id": "1fbcf68b-90ff-45b8-8062-681e0caaa726",
   "metadata": {},
   "outputs": [],
   "source": [
    "P_10_modified = P_10.copy()"
   ]
  },
  {
   "cell_type": "code",
   "execution_count": 12,
   "id": "1d00184d-3b0f-43f5-85b4-c1e1146b28cf",
   "metadata": {},
   "outputs": [],
   "source": [
    "for i in range(10):\n",
    "    P_10_modified[0][i] = 0\n",
    "\n",
    "P_10_modified[0][0] = 1"
   ]
  },
  {
   "cell_type": "code",
   "execution_count": 14,
   "id": "2b5714ca-1a40-4a29-963a-758a38a4c272",
   "metadata": {},
   "outputs": [
    {
     "name": "stdout",
     "output_type": "stream",
     "text": [
      "[ 1.00000000e+00 -4.15658897e-16 -4.56298154e-16 -4.74341283e-16\n",
      " -3.42152703e-16 -4.84068440e-16 -4.77580090e-16 -4.17105800e-16\n",
      " -4.99482958e-16 -4.54782983e-16]\n",
      "[9.999993e-01 3.000000e-07 0.000000e+00 1.000000e-07 1.000000e-07\n",
      " 0.000000e+00 0.000000e+00 0.000000e+00 0.000000e+00 2.000000e-07]\n",
      "[1. 0. 0. 0. 0. 0. 0. 0. 0. 0.]\n"
     ]
    }
   ],
   "source": [
    "print(analytical(P_10_modified))\n",
    "print(simulation(10**7,P_10_modified))\n",
    "print(matrix_multiplication(P_10_modified, 10**-6))\n"
   ]
  },
  {
   "cell_type": "markdown",
   "id": "b6665621-ab19-4912-8877-8321fc4101d3",
   "metadata": {},
   "source": [
    "As anticipated, the results align with our expectations. Given that the 0th state is now absorbing, this Markov Chain is no longer ergodic. Consequently, the long-term proportions of the 0th state will converge to 1, while all other states will tend towards 0 (i.e., pi_j = 0 for all states except state 0). Additionally, the 0th state in Method 2 does not directly equal to 1. As discussed earlier, this underscores the fact that Method 2 is the least reliable among the methods considered."
   ]
  }
 ],
 "metadata": {
  "kernelspec": {
   "display_name": "Python 3 (ipykernel)",
   "language": "python",
   "name": "python3"
  },
  "language_info": {
   "codemirror_mode": {
    "name": "ipython",
    "version": 3
   },
   "file_extension": ".py",
   "mimetype": "text/x-python",
   "name": "python",
   "nbconvert_exporter": "python",
   "pygments_lexer": "ipython3",
   "version": "3.11.8"
  }
 },
 "nbformat": 4,
 "nbformat_minor": 5
}
